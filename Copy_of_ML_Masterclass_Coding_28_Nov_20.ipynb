{
  "nbformat": 4,
  "nbformat_minor": 0,
  "metadata": {
    "colab": {
      "name": "Copy of ML-Masterclass-Coding-28-Nov-20.ipynb",
      "provenance": [],
      "collapsed_sections": [],
      "include_colab_link": true
    },
    "kernelspec": {
      "name": "python3",
      "display_name": "Python 3"
    },
    "accelerator": "GPU"
  },
  "cells": [
    {
      "cell_type": "markdown",
      "metadata": {
        "id": "view-in-github",
        "colab_type": "text"
      },
      "source": [
        "<a href=\"https://colab.research.google.com/github/piyush9111/ML-Learning-Model/blob/main/Copy_of_ML_Masterclass_Coding_28_Nov_20.ipynb\" target=\"_parent\"><img src=\"https://colab.research.google.com/assets/colab-badge.svg\" alt=\"Open In Colab\"/></a>"
      ]
    },
    {
      "cell_type": "code",
      "metadata": {
        "id": "iaIJxJxsxiqn"
      },
      "source": [
        "import keras"
      ],
      "execution_count": null,
      "outputs": []
    },
    {
      "cell_type": "code",
      "metadata": {
        "id": "7eN2TbEhyD0-"
      },
      "source": [
        "from keras.datasets import mnist"
      ],
      "execution_count": null,
      "outputs": []
    },
    {
      "cell_type": "code",
      "metadata": {
        "id": "RG3_wsc5yOrH",
        "colab": {
          "base_uri": "https://localhost:8080/"
        },
        "outputId": "fd3d81a8-eef4-4e3b-cfd1-d6afdc417d0d"
      },
      "source": [
        "data = mnist.load_data()\n",
        "(train_images, train_labels), (test_images, test_labels) = data"
      ],
      "execution_count": null,
      "outputs": [
        {
          "output_type": "stream",
          "text": [
            "Downloading data from https://storage.googleapis.com/tensorflow/tf-keras-datasets/mnist.npz\n",
            "11493376/11490434 [==============================] - 0s 0us/step\n"
          ],
          "name": "stdout"
        }
      ]
    },
    {
      "cell_type": "code",
      "metadata": {
        "id": "7S0VdcxkymMN",
        "colab": {
          "base_uri": "https://localhost:8080/"
        },
        "outputId": "2b0d076d-0d3f-4038-dbd2-ff232abd619c"
      },
      "source": [
        "len(train_images)"
      ],
      "execution_count": null,
      "outputs": [
        {
          "output_type": "execute_result",
          "data": {
            "text/plain": [
              "60000"
            ]
          },
          "metadata": {
            "tags": []
          },
          "execution_count": 3
        }
      ]
    },
    {
      "cell_type": "code",
      "metadata": {
        "id": "Nm-uFBH5ysc2",
        "colab": {
          "base_uri": "https://localhost:8080/"
        },
        "outputId": "d6f5f182-213c-4c76-c70b-de2b3668325d"
      },
      "source": [
        "len(train_labels)"
      ],
      "execution_count": null,
      "outputs": [
        {
          "output_type": "execute_result",
          "data": {
            "text/plain": [
              "60000"
            ]
          },
          "metadata": {
            "tags": []
          },
          "execution_count": 10
        }
      ]
    },
    {
      "cell_type": "code",
      "metadata": {
        "id": "KCoJa410yvsT",
        "colab": {
          "base_uri": "https://localhost:8080/"
        },
        "outputId": "41120861-8d55-4ffb-fedf-9df83d21fe49"
      },
      "source": [
        "len(test_images)"
      ],
      "execution_count": null,
      "outputs": [
        {
          "output_type": "execute_result",
          "data": {
            "text/plain": [
              "10000"
            ]
          },
          "metadata": {
            "tags": []
          },
          "execution_count": 4
        }
      ]
    },
    {
      "cell_type": "code",
      "metadata": {
        "id": "yZzk530Ky-Cn"
      },
      "source": [
        "train_images = train_images.reshape((60000, 28, 28, 1))"
      ],
      "execution_count": null,
      "outputs": []
    },
    {
      "cell_type": "code",
      "metadata": {
        "id": "kVmY_DWtzIYh"
      },
      "source": [
        "test_images = test_images.reshape((10000, 28, 28, 1))"
      ],
      "execution_count": null,
      "outputs": []
    },
    {
      "cell_type": "code",
      "metadata": {
        "id": "rrn1GlEd0P4F"
      },
      "source": [
        "train_images = train_images.astype('float')/255 #normalization"
      ],
      "execution_count": null,
      "outputs": []
    },
    {
      "cell_type": "code",
      "metadata": {
        "id": "LNWfwubv0fKc"
      },
      "source": [
        "test_images = test_images.astype('float')/255 #normalization"
      ],
      "execution_count": null,
      "outputs": []
    },
    {
      "cell_type": "markdown",
      "metadata": {
        "id": "Gu--mK8Z2EHr"
      },
      "source": [
        ""
      ]
    },
    {
      "cell_type": "code",
      "metadata": {
        "id": "RJ_KLVOg0mj8"
      },
      "source": [
        "from keras.preprocessing import image\n",
        "import matplotlib.pyplot as plt"
      ],
      "execution_count": null,
      "outputs": []
    },
    {
      "cell_type": "code",
      "metadata": {
        "id": "bXFqUq5a0t_e",
        "colab": {
          "base_uri": "https://localhost:8080/",
          "height": 282
        },
        "outputId": "31348c62-1cbc-40f3-c7aa-ec19d7a57915"
      },
      "source": [
        "plt.imshow(image.array_to_img(train_images[658]), cmap=\"gray\")"
      ],
      "execution_count": null,
      "outputs": [
        {
          "output_type": "execute_result",
          "data": {
            "text/plain": [
              "<matplotlib.image.AxesImage at 0x7f709a7e5a20>"
            ]
          },
          "metadata": {
            "tags": []
          },
          "execution_count": 12
        },
        {
          "output_type": "display_data",
          "data": {
            "image/png": "[encoded data removed]",
            "text/plain": [
              "<Figure size 432x288 with 1 Axes>"
            ]
          },
          "metadata": {
            "tags": [],
            "needs_background": "light"
          }
        }
      ]
    },
    {
      "cell_type": "code",
      "metadata": {
        "id": "rofIC1Rx0_QV",
        "colab": {
          "base_uri": "https://localhost:8080/"
        },
        "outputId": "ec9526c4-60fb-4dc9-f648-341bb1bd2eb5"
      },
      "source": [
        "train_labels[658]"
      ],
      "execution_count": null,
      "outputs": [
        {
          "output_type": "execute_result",
          "data": {
            "text/plain": [
              "6"
            ]
          },
          "metadata": {
            "tags": []
          },
          "execution_count": 13
        }
      ]
    },
    {
      "cell_type": "code",
      "metadata": {
        "id": "i9omhxMe1f53",
        "colab": {
          "base_uri": "https://localhost:8080/",
          "height": 128
        },
        "outputId": "c03c47a5-052b-4c9a-e663-80aa8e9bec64"
      },
      "source": [
        "#lable = 4\n",
        "0 0 0 0 1 0 0 0 0 0"
      ],
      "execution_count": null,
      "outputs": [
        {
          "output_type": "error",
          "ename": "SyntaxError",
          "evalue": "ignored",
          "traceback": [
            "\u001b[0;36m  File \u001b[0;32m\"<ipython-input-14-785f918b894b>\"\u001b[0;36m, line \u001b[0;32m2\u001b[0m\n\u001b[0;31m    0 0 0 0 1 0 0 0 0 0\u001b[0m\n\u001b[0m      ^\u001b[0m\n\u001b[0;31mSyntaxError\u001b[0m\u001b[0;31m:\u001b[0m invalid syntax\n"
          ]
        }
      ]
    },
    {
      "cell_type": "code",
      "metadata": {
        "id": "zcLTccye228v"
      },
      "source": [
        "from keras.utils import to_categorical\n",
        "train_labels_original = train_labels\n",
        "train_labels = to_categorical(train_labels)"
      ],
      "execution_count": null,
      "outputs": []
    },
    {
      "cell_type": "code",
      "metadata": {
        "id": "P2WgStcR3NOK",
        "colab": {
          "base_uri": "https://localhost:8080/"
        },
        "outputId": "095cea71-524c-4702-b5ce-f6adf11e2288"
      },
      "source": [
        "train_labels[20]"
      ],
      "execution_count": null,
      "outputs": [
        {
          "output_type": "execute_result",
          "data": {
            "text/plain": [
              "array([0., 0., 0., 0., 1., 0., 0., 0., 0., 0.], dtype=float32)"
            ]
          },
          "metadata": {
            "tags": []
          },
          "execution_count": 16
        }
      ]
    },
    {
      "cell_type": "code",
      "metadata": {
        "id": "kCtUsTkm3iOa"
      },
      "source": [
        "test_labels_original = test_labels\n",
        "test_labels = to_categorical(test_labels)"
      ],
      "execution_count": null,
      "outputs": []
    },
    {
      "cell_type": "code",
      "metadata": {
        "id": "gUx8RmOk3n-u",
        "colab": {
          "base_uri": "https://localhost:8080/"
        },
        "outputId": "0e4ff529-7dc2-4e19-ec0b-b6306e1f966e"
      },
      "source": [
        "test_labels_original[7]"
      ],
      "execution_count": null,
      "outputs": [
        {
          "output_type": "execute_result",
          "data": {
            "text/plain": [
              "9"
            ]
          },
          "metadata": {
            "tags": []
          },
          "execution_count": 18
        }
      ]
    },
    {
      "cell_type": "code",
      "metadata": {
        "id": "Myuijtgg3rV1",
        "colab": {
          "base_uri": "https://localhost:8080/"
        },
        "outputId": "897bbbd8-30ce-41f6-e62f-c139725d80c2"
      },
      "source": [
        "test_labels[7]"
      ],
      "execution_count": null,
      "outputs": [
        {
          "output_type": "execute_result",
          "data": {
            "text/plain": [
              "array([0., 0., 0., 0., 0., 0., 0., 0., 0., 1.], dtype=float32)"
            ]
          },
          "metadata": {
            "tags": []
          },
          "execution_count": 19
        }
      ]
    },
    {
      "cell_type": "code",
      "metadata": {
        "id": "cZd4TuZw4GrZ"
      },
      "source": [
        "from keras import layers, models"
      ],
      "execution_count": null,
      "outputs": []
    },
    {
      "cell_type": "code",
      "metadata": {
        "id": "MdXtk0--4PYx"
      },
      "source": [
        "model = models.Sequential()"
      ],
      "execution_count": null,
      "outputs": []
    },
    {
      "cell_type": "code",
      "metadata": {
        "id": "LlK62Onx4XUN"
      },
      "source": [
        "model.add(layers.Conv2D(32, (3,3), activation='relu', input_shape = (28,28,1)))"
      ],
      "execution_count": null,
      "outputs": []
    },
    {
      "cell_type": "code",
      "metadata": {
        "id": "u2METLG67BVE",
        "colab": {
          "base_uri": "https://localhost:8080/"
        },
        "outputId": "fc261d7d-3cf3-4fc2-f9bb-597b470a9bcf"
      },
      "source": [
        "model.summary()"
      ],
      "execution_count": null,
      "outputs": [
        {
          "output_type": "stream",
          "text": [
            "Model: \"sequential\"\n",
            "_________________________________________________________________\n",
            "Layer (type)                 Output Shape              Param #   \n",
            "=================================================================\n",
            "conv2d (Conv2D)              (None, 26, 26, 32)        320       \n",
            "=================================================================\n",
            "Total params: 320\n",
            "Trainable params: 320\n",
            "Non-trainable params: 0\n",
            "_________________________________________________________________\n"
          ],
          "name": "stdout"
        }
      ]
    },
    {
      "cell_type": "code",
      "metadata": {
        "id": "gN4AOSrX7ke-"
      },
      "source": [
        "model.add(layers.MaxPooling2D((2,2)))"
      ],
      "execution_count": null,
      "outputs": []
    },
    {
      "cell_type": "code",
      "metadata": {
        "id": "t2KdvgOT73zC"
      },
      "source": [
        "model.add(layers.Conv2D(64, (3,3), activation = 'relu'))"
      ],
      "execution_count": null,
      "outputs": []
    },
    {
      "cell_type": "code",
      "metadata": {
        "id": "-beW5YyP8BS1",
        "colab": {
          "base_uri": "https://localhost:8080/"
        },
        "outputId": "2bc65f03-c045-46f1-fd98-2e4b897c1786"
      },
      "source": [
        "model.summary()"
      ],
      "execution_count": null,
      "outputs": [
        {
          "output_type": "stream",
          "text": [
            "Model: \"sequential\"\n",
            "_________________________________________________________________\n",
            "Layer (type)                 Output Shape              Param #   \n",
            "=================================================================\n",
            "conv2d (Conv2D)              (None, 26, 26, 32)        320       \n",
            "_________________________________________________________________\n",
            "max_pooling2d (MaxPooling2D) (None, 13, 13, 32)        0         \n",
            "_________________________________________________________________\n",
            "conv2d_1 (Conv2D)            (None, 11, 11, 64)        18496     \n",
            "=================================================================\n",
            "Total params: 18,816\n",
            "Trainable params: 18,816\n",
            "Non-trainable params: 0\n",
            "_________________________________________________________________\n"
          ],
          "name": "stdout"
        }
      ]
    },
    {
      "cell_type": "code",
      "metadata": {
        "id": "PN_X8pjE8PFU"
      },
      "source": [
        "model.add(layers.MaxPooling2D((2,2)))"
      ],
      "execution_count": null,
      "outputs": []
    },
    {
      "cell_type": "code",
      "metadata": {
        "id": "Gcq51QBs8ify"
      },
      "source": [
        "model.add(layers.Conv2D(64, (3,3), activation='relu'))"
      ],
      "execution_count": null,
      "outputs": []
    },
    {
      "cell_type": "code",
      "metadata": {
        "id": "zaWlzwcy8s1f",
        "colab": {
          "base_uri": "https://localhost:8080/"
        },
        "outputId": "aaa52612-4935-4100-86fc-bcc144c66eb0"
      },
      "source": [
        "model.summary()"
      ],
      "execution_count": null,
      "outputs": [
        {
          "output_type": "stream",
          "text": [
            "Model: \"sequential\"\n",
            "_________________________________________________________________\n",
            "Layer (type)                 Output Shape              Param #   \n",
            "=================================================================\n",
            "conv2d (Conv2D)              (None, 26, 26, 32)        320       \n",
            "_________________________________________________________________\n",
            "max_pooling2d (MaxPooling2D) (None, 13, 13, 32)        0         \n",
            "_________________________________________________________________\n",
            "conv2d_1 (Conv2D)            (None, 11, 11, 64)        18496     \n",
            "_________________________________________________________________\n",
            "max_pooling2d_1 (MaxPooling2 (None, 5, 5, 64)          0         \n",
            "_________________________________________________________________\n",
            "conv2d_2 (Conv2D)            (None, 3, 3, 64)          36928     \n",
            "=================================================================\n",
            "Total params: 55,744\n",
            "Trainable params: 55,744\n",
            "Non-trainable params: 0\n",
            "_________________________________________________________________\n"
          ],
          "name": "stdout"
        }
      ]
    },
    {
      "cell_type": "code",
      "metadata": {
        "id": "oDATD0G78zcY"
      },
      "source": [
        "model.add(layers.Flatten())"
      ],
      "execution_count": null,
      "outputs": []
    },
    {
      "cell_type": "code",
      "metadata": {
        "id": "VYPwKA-w9ZgK",
        "colab": {
          "base_uri": "https://localhost:8080/"
        },
        "outputId": "89164564-fdef-4042-84ee-80b1c1030905"
      },
      "source": [
        "model.summary()"
      ],
      "execution_count": null,
      "outputs": [
        {
          "output_type": "stream",
          "text": [
            "Model: \"sequential\"\n",
            "_________________________________________________________________\n",
            "Layer (type)                 Output Shape              Param #   \n",
            "=================================================================\n",
            "conv2d (Conv2D)              (None, 26, 26, 32)        320       \n",
            "_________________________________________________________________\n",
            "max_pooling2d (MaxPooling2D) (None, 13, 13, 32)        0         \n",
            "_________________________________________________________________\n",
            "conv2d_1 (Conv2D)            (None, 11, 11, 64)        18496     \n",
            "_________________________________________________________________\n",
            "max_pooling2d_1 (MaxPooling2 (None, 5, 5, 64)          0         \n",
            "_________________________________________________________________\n",
            "conv2d_2 (Conv2D)            (None, 3, 3, 64)          36928     \n",
            "_________________________________________________________________\n",
            "flatten (Flatten)            (None, 576)               0         \n",
            "=================================================================\n",
            "Total params: 55,744\n",
            "Trainable params: 55,744\n",
            "Non-trainable params: 0\n",
            "_________________________________________________________________\n"
          ],
          "name": "stdout"
        }
      ]
    },
    {
      "cell_type": "code",
      "metadata": {
        "id": "ua4iv3Oj9h30"
      },
      "source": [
        "model.add(layers.Dense(64, activation = 'relu'))"
      ],
      "execution_count": null,
      "outputs": []
    },
    {
      "cell_type": "code",
      "metadata": {
        "id": "KJW2Vxzm9zFV"
      },
      "source": [
        "model.add(layers.Dense(10, activation='softmax'))"
      ],
      "execution_count": null,
      "outputs": []
    },
    {
      "cell_type": "code",
      "metadata": {
        "id": "8gwZWtqJ-I2T",
        "colab": {
          "base_uri": "https://localhost:8080/"
        },
        "outputId": "837c3235-333c-4d7b-c17f-bb24206524c6"
      },
      "source": [
        "model.summary()"
      ],
      "execution_count": null,
      "outputs": [
        {
          "output_type": "stream",
          "text": [
            "Model: \"sequential\"\n",
            "_________________________________________________________________\n",
            "Layer (type)                 Output Shape              Param #   \n",
            "=================================================================\n",
            "conv2d (Conv2D)              (None, 26, 26, 32)        320       \n",
            "_________________________________________________________________\n",
            "max_pooling2d (MaxPooling2D) (None, 13, 13, 32)        0         \n",
            "_________________________________________________________________\n",
            "conv2d_1 (Conv2D)            (None, 11, 11, 64)        18496     \n",
            "_________________________________________________________________\n",
            "max_pooling2d_1 (MaxPooling2 (None, 5, 5, 64)          0         \n",
            "_________________________________________________________________\n",
            "conv2d_2 (Conv2D)            (None, 3, 3, 64)          36928     \n",
            "_________________________________________________________________\n",
            "flatten (Flatten)            (None, 576)               0         \n",
            "_________________________________________________________________\n",
            "dense (Dense)                (None, 64)                36928     \n",
            "_________________________________________________________________\n",
            "dense_1 (Dense)              (None, 10)                650       \n",
            "=================================================================\n",
            "Total params: 93,322\n",
            "Trainable params: 93,322\n",
            "Non-trainable params: 0\n",
            "_________________________________________________________________\n"
          ],
          "name": "stdout"
        }
      ]
    },
    {
      "cell_type": "code",
      "metadata": {
        "id": "CjO2rrdi-UYP"
      },
      "source": [
        "model.compile(loss='categorical_crossentropy', optimizer='rmsprop', metrics=['accuracy'])"
      ],
      "execution_count": null,
      "outputs": []
    },
    {
      "cell_type": "code",
      "metadata": {
        "id": "HRW7N6lv_CMW",
        "colab": {
          "base_uri": "https://localhost:8080/"
        },
        "outputId": "1846fa79-9cae-4f40-f426-6614b1d32fe2"
      },
      "source": [
        "model.fit(train_images, train_labels, epochs = 150, batch_size=64)"
      ],
      "execution_count": null,
      "outputs": [
        {
          "output_type": "stream",
          "text": [
            "Epoch 1/150\n",
            "938/938 [==============================] - 4s 4ms/step - loss: 0.0041 - accuracy: 0.9990\n",
            "Epoch 2/150\n",
            "938/938 [==============================] - 4s 4ms/step - loss: 0.0034 - accuracy: 0.9990\n",
            "Epoch 3/150\n",
            "938/938 [==============================] - 4s 4ms/step - loss: 0.0030 - accuracy: 0.9991\n",
            "Epoch 4/150\n",
            "938/938 [==============================] - 4s 4ms/step - loss: 0.0031 - accuracy: 0.9991\n",
            "Epoch 5/150\n",
            "938/938 [==============================] - 4s 4ms/step - loss: 0.0030 - accuracy: 0.9991\n",
            "Epoch 6/150\n",
            "938/938 [==============================] - 4s 4ms/step - loss: 0.0033 - accuracy: 0.9990\n",
            "Epoch 7/150\n",
            "938/938 [==============================] - 4s 4ms/step - loss: 0.0030 - accuracy: 0.9991\n",
            "Epoch 8/150\n",
            "938/938 [==============================] - 4s 4ms/step - loss: 0.0032 - accuracy: 0.9993\n",
            "Epoch 9/150\n",
            "938/938 [==============================] - 4s 4ms/step - loss: 0.0024 - accuracy: 0.9995\n",
            "Epoch 10/150\n",
            "938/938 [==============================] - 4s 4ms/step - loss: 0.0020 - accuracy: 0.9995\n",
            "Epoch 11/150\n",
            "938/938 [==============================] - 4s 4ms/step - loss: 0.0021 - accuracy: 0.9995\n",
            "Epoch 12/150\n",
            "938/938 [==============================] - 4s 4ms/step - loss: 0.0026 - accuracy: 0.9994\n",
            "Epoch 13/150\n",
            "938/938 [==============================] - 4s 4ms/step - loss: 0.0027 - accuracy: 0.9994\n",
            "Epoch 14/150\n",
            "938/938 [==============================] - 4s 4ms/step - loss: 0.0020 - accuracy: 0.9996\n",
            "Epoch 15/150\n",
            "938/938 [==============================] - 4s 4ms/step - loss: 0.0019 - accuracy: 0.9995\n",
            "Epoch 16/150\n",
            "938/938 [==============================] - 4s 4ms/step - loss: 0.0021 - accuracy: 0.9997\n",
            "Epoch 17/150\n",
            "938/938 [==============================] - 4s 4ms/step - loss: 0.0012 - accuracy: 0.9997\n",
            "Epoch 18/150\n",
            "938/938 [==============================] - 4s 4ms/step - loss: 0.0021 - accuracy: 0.9996\n",
            "Epoch 19/150\n",
            "938/938 [==============================] - 4s 4ms/step - loss: 0.0025 - accuracy: 0.9995\n",
            "Epoch 20/150\n",
            "938/938 [==============================] - 4s 4ms/step - loss: 0.0016 - accuracy: 0.9996\n",
            "Epoch 21/150\n",
            "938/938 [==============================] - 4s 4ms/step - loss: 0.0017 - accuracy: 0.9997\n",
            "Epoch 22/150\n",
            "938/938 [==============================] - 4s 4ms/step - loss: 0.0025 - accuracy: 0.9997\n",
            "Epoch 23/150\n",
            "938/938 [==============================] - 4s 4ms/step - loss: 0.0025 - accuracy: 0.9996\n",
            "Epoch 24/150\n",
            "938/938 [==============================] - 4s 5ms/step - loss: 0.0012 - accuracy: 0.9998\n",
            "Epoch 25/150\n",
            "938/938 [==============================] - 4s 4ms/step - loss: 0.0017 - accuracy: 0.9997\n",
            "Epoch 26/150\n",
            "938/938 [==============================] - 4s 4ms/step - loss: 0.0017 - accuracy: 0.9997\n",
            "Epoch 27/150\n",
            "938/938 [==============================] - 4s 4ms/step - loss: 0.0017 - accuracy: 0.9997\n",
            "Epoch 28/150\n",
            "938/938 [==============================] - 4s 4ms/step - loss: 0.0015 - accuracy: 0.9997\n",
            "Epoch 29/150\n",
            "938/938 [==============================] - 4s 4ms/step - loss: 0.0014 - accuracy: 0.9998\n",
            "Epoch 30/150\n",
            "938/938 [==============================] - 4s 4ms/step - loss: 0.0014 - accuracy: 0.9997\n",
            "Epoch 31/150\n",
            "938/938 [==============================] - 4s 4ms/step - loss: 0.0013 - accuracy: 0.9997\n",
            "Epoch 32/150\n",
            "938/938 [==============================] - 4s 4ms/step - loss: 0.0013 - accuracy: 0.9998\n",
            "Epoch 33/150\n",
            "938/938 [==============================] - 4s 4ms/step - loss: 0.0013 - accuracy: 0.9997\n",
            "Epoch 34/150\n",
            "938/938 [==============================] - 4s 4ms/step - loss: 0.0015 - accuracy: 0.9997\n",
            "Epoch 35/150\n",
            "938/938 [==============================] - 4s 4ms/step - loss: 0.0015 - accuracy: 0.9997\n",
            "Epoch 36/150\n",
            "938/938 [==============================] - 4s 4ms/step - loss: 0.0024 - accuracy: 0.9996\n",
            "Epoch 37/150\n",
            "938/938 [==============================] - 4s 4ms/step - loss: 0.0018 - accuracy: 0.9998\n",
            "Epoch 38/150\n",
            "938/938 [==============================] - 4s 4ms/step - loss: 0.0026 - accuracy: 0.9995\n",
            "Epoch 39/150\n",
            "938/938 [==============================] - 4s 4ms/step - loss: 8.9346e-04 - accuracy: 0.9998\n",
            "Epoch 40/150\n",
            "938/938 [==============================] - 4s 4ms/step - loss: 0.0018 - accuracy: 0.9998\n",
            "Epoch 41/150\n",
            "938/938 [==============================] - 4s 4ms/step - loss: 0.0013 - accuracy: 0.9998\n",
            "Epoch 42/150\n",
            "938/938 [==============================] - 4s 4ms/step - loss: 0.0017 - accuracy: 0.9997\n",
            "Epoch 43/150\n",
            "938/938 [==============================] - 4s 4ms/step - loss: 9.1614e-04 - accuracy: 0.9998\n",
            "Epoch 44/150\n",
            "938/938 [==============================] - 4s 4ms/step - loss: 0.0019 - accuracy: 0.9998\n",
            "Epoch 45/150\n",
            "938/938 [==============================] - 4s 4ms/step - loss: 0.0020 - accuracy: 0.9997\n",
            "Epoch 46/150\n",
            "938/938 [==============================] - 4s 4ms/step - loss: 0.0015 - accuracy: 0.9998\n",
            "Epoch 47/150\n",
            "938/938 [==============================] - 4s 4ms/step - loss: 0.0013 - accuracy: 0.9998\n",
            "Epoch 48/150\n",
            "938/938 [==============================] - 4s 4ms/step - loss: 7.8725e-04 - accuracy: 0.9998\n",
            "Epoch 49/150\n",
            "938/938 [==============================] - 4s 4ms/step - loss: 9.4070e-04 - accuracy: 0.9999\n",
            "Epoch 50/150\n",
            "938/938 [==============================] - 4s 4ms/step - loss: 5.5414e-04 - accuracy: 0.9998\n",
            "Epoch 51/150\n",
            "938/938 [==============================] - 4s 4ms/step - loss: 0.0010 - accuracy: 0.9997\n",
            "Epoch 52/150\n",
            "938/938 [==============================] - 4s 4ms/step - loss: 1.9313e-04 - accuracy: 0.9999\n",
            "Epoch 53/150\n",
            "938/938 [==============================] - 4s 4ms/step - loss: 0.0016 - accuracy: 0.9997\n",
            "Epoch 54/150\n",
            "938/938 [==============================] - 4s 4ms/step - loss: 3.1314e-04 - accuracy: 0.9999\n",
            "Epoch 55/150\n",
            "938/938 [==============================] - 4s 4ms/step - loss: 0.0022 - accuracy: 0.9997\n",
            "Epoch 56/150\n",
            "938/938 [==============================] - 4s 4ms/step - loss: 0.0023 - accuracy: 0.9997\n",
            "Epoch 57/150\n",
            "938/938 [==============================] - 4s 5ms/step - loss: 0.0016 - accuracy: 0.9997\n",
            "Epoch 58/150\n",
            "938/938 [==============================] - 4s 4ms/step - loss: 0.0016 - accuracy: 0.9997\n",
            "Epoch 59/150\n",
            "938/938 [==============================] - 4s 4ms/step - loss: 0.0012 - accuracy: 0.9998\n",
            "Epoch 60/150\n",
            "938/938 [==============================] - 4s 4ms/step - loss: 0.0017 - accuracy: 0.9998\n",
            "Epoch 61/150\n",
            "938/938 [==============================] - 4s 4ms/step - loss: 0.0013 - accuracy: 0.9998\n",
            "Epoch 62/150\n",
            "938/938 [==============================] - 4s 4ms/step - loss: 0.0017 - accuracy: 0.9998\n",
            "Epoch 63/150\n",
            "938/938 [==============================] - 4s 4ms/step - loss: 2.7091e-04 - accuracy: 0.9999\n",
            "Epoch 64/150\n",
            "938/938 [==============================] - 4s 4ms/step - loss: 5.9913e-04 - accuracy: 0.9999\n",
            "Epoch 65/150\n",
            "938/938 [==============================] - 4s 4ms/step - loss: 8.2394e-04 - accuracy: 0.9999\n",
            "Epoch 66/150\n",
            "938/938 [==============================] - 4s 4ms/step - loss: 7.5385e-04 - accuracy: 0.9999\n",
            "Epoch 67/150\n",
            "938/938 [==============================] - 4s 4ms/step - loss: 8.6324e-04 - accuracy: 0.9999\n",
            "Epoch 68/150\n",
            "938/938 [==============================] - 4s 4ms/step - loss: 2.2391e-04 - accuracy: 0.9999\n",
            "Epoch 69/150\n",
            "938/938 [==============================] - 4s 4ms/step - loss: 8.3881e-04 - accuracy: 0.9999\n",
            "Epoch 70/150\n",
            "938/938 [==============================] - 4s 4ms/step - loss: 8.8719e-04 - accuracy: 1.0000\n",
            "Epoch 71/150\n",
            "938/938 [==============================] - 4s 4ms/step - loss: 4.1832e-04 - accuracy: 0.9999\n",
            "Epoch 72/150\n",
            "938/938 [==============================] - 4s 4ms/step - loss: 6.0623e-04 - accuracy: 0.9999\n",
            "Epoch 73/150\n",
            "938/938 [==============================] - 4s 4ms/step - loss: 9.2468e-04 - accuracy: 0.9998\n",
            "Epoch 74/150\n",
            "938/938 [==============================] - 4s 4ms/step - loss: 0.0011 - accuracy: 0.9998\n",
            "Epoch 75/150\n",
            "938/938 [==============================] - 4s 4ms/step - loss: 6.1106e-04 - accuracy: 0.9999\n",
            "Epoch 76/150\n",
            "938/938 [==============================] - 4s 4ms/step - loss: 0.0010 - accuracy: 0.9999\n",
            "Epoch 77/150\n",
            "938/938 [==============================] - 4s 4ms/step - loss: 9.5580e-04 - accuracy: 0.9998\n",
            "Epoch 78/150\n",
            "938/938 [==============================] - 4s 4ms/step - loss: 2.9467e-05 - accuracy: 1.0000\n",
            "Epoch 79/150\n",
            "938/938 [==============================] - 4s 4ms/step - loss: 2.8473e-04 - accuracy: 0.9999\n",
            "Epoch 80/150\n",
            "938/938 [==============================] - 4s 4ms/step - loss: 0.0012 - accuracy: 0.9998\n",
            "Epoch 81/150\n",
            "938/938 [==============================] - 4s 4ms/step - loss: 8.3251e-04 - accuracy: 0.9999\n",
            "Epoch 82/150\n",
            "938/938 [==============================] - 4s 4ms/step - loss: 0.0012 - accuracy: 0.9998\n",
            "Epoch 83/150\n",
            "938/938 [==============================] - 4s 4ms/step - loss: 0.0015 - accuracy: 0.9999\n",
            "Epoch 84/150\n",
            "938/938 [==============================] - 4s 4ms/step - loss: 6.7959e-04 - accuracy: 0.9999\n",
            "Epoch 85/150\n",
            "938/938 [==============================] - 4s 4ms/step - loss: 0.0016 - accuracy: 0.9998\n",
            "Epoch 86/150\n",
            "938/938 [==============================] - 4s 4ms/step - loss: 0.0013 - accuracy: 0.9998\n",
            "Epoch 87/150\n",
            "938/938 [==============================] - 4s 4ms/step - loss: 0.0011 - accuracy: 0.9999\n",
            "Epoch 88/150\n",
            "938/938 [==============================] - 4s 4ms/step - loss: 0.0012 - accuracy: 0.9999\n",
            "Epoch 89/150\n",
            "938/938 [==============================] - 4s 4ms/step - loss: 0.0012 - accuracy: 0.9999\n",
            "Epoch 90/150\n",
            "938/938 [==============================] - 4s 4ms/step - loss: 0.0012 - accuracy: 0.9999\n",
            "Epoch 91/150\n",
            "938/938 [==============================] - 4s 4ms/step - loss: 8.0605e-04 - accuracy: 0.9999\n",
            "Epoch 92/150\n",
            "938/938 [==============================] - 4s 4ms/step - loss: 8.5715e-04 - accuracy: 0.9999\n",
            "Epoch 93/150\n",
            "938/938 [==============================] - 4s 4ms/step - loss: 4.4097e-04 - accuracy: 0.9999\n",
            "Epoch 94/150\n",
            "938/938 [==============================] - 4s 4ms/step - loss: 0.0011 - accuracy: 0.9999\n",
            "Epoch 95/150\n",
            "938/938 [==============================] - 4s 4ms/step - loss: 0.0015 - accuracy: 0.9998\n",
            "Epoch 96/150\n",
            "938/938 [==============================] - 4s 4ms/step - loss: 0.0011 - accuracy: 0.9999\n",
            "Epoch 97/150\n",
            "938/938 [==============================] - 4s 4ms/step - loss: 2.0092e-04 - accuracy: 1.0000\n",
            "Epoch 98/150\n",
            "938/938 [==============================] - 4s 4ms/step - loss: 1.2656e-04 - accuracy: 1.0000\n",
            "Epoch 99/150\n",
            "938/938 [==============================] - 4s 4ms/step - loss: 2.0595e-04 - accuracy: 1.0000\n",
            "Epoch 100/150\n",
            "938/938 [==============================] - 4s 4ms/step - loss: 7.5467e-04 - accuracy: 0.9999\n",
            "Epoch 101/150\n",
            "938/938 [==============================] - 4s 4ms/step - loss: 7.3104e-05 - accuracy: 1.0000\n",
            "Epoch 102/150\n",
            "938/938 [==============================] - 4s 5ms/step - loss: 3.9873e-04 - accuracy: 0.9999\n",
            "Epoch 103/150\n",
            "938/938 [==============================] - 4s 4ms/step - loss: 4.0137e-04 - accuracy: 0.9999\n",
            "Epoch 104/150\n",
            "938/938 [==============================] - 4s 4ms/step - loss: 8.4733e-04 - accuracy: 0.9999\n",
            "Epoch 105/150\n",
            "938/938 [==============================] - 4s 4ms/step - loss: 3.5843e-04 - accuracy: 0.9999\n",
            "Epoch 106/150\n",
            "938/938 [==============================] - 4s 5ms/step - loss: 1.4700e-04 - accuracy: 0.9999\n",
            "Epoch 107/150\n",
            "938/938 [==============================] - 4s 5ms/step - loss: 9.0513e-04 - accuracy: 0.9999\n",
            "Epoch 108/150\n",
            "938/938 [==============================] - 4s 4ms/step - loss: 7.0697e-04 - accuracy: 0.9999\n",
            "Epoch 109/150\n",
            "938/938 [==============================] - 4s 4ms/step - loss: 2.2054e-04 - accuracy: 1.0000\n",
            "Epoch 110/150\n",
            "938/938 [==============================] - 4s 4ms/step - loss: 5.8341e-08 - accuracy: 1.0000\n",
            "Epoch 111/150\n",
            "938/938 [==============================] - 4s 4ms/step - loss: 4.7435e-05 - accuracy: 1.0000\n",
            "Epoch 112/150\n",
            "938/938 [==============================] - 4s 4ms/step - loss: 3.3007e-05 - accuracy: 1.0000\n",
            "Epoch 113/150\n",
            "938/938 [==============================] - 4s 4ms/step - loss: 5.5707e-04 - accuracy: 0.9999\n",
            "Epoch 114/150\n",
            "938/938 [==============================] - 4s 4ms/step - loss: 8.0278e-04 - accuracy: 0.9999\n",
            "Epoch 115/150\n",
            "938/938 [==============================] - 4s 4ms/step - loss: 2.4741e-07 - accuracy: 1.0000\n",
            "Epoch 116/150\n",
            "938/938 [==============================] - 4s 4ms/step - loss: 1.9715e-04 - accuracy: 1.0000\n",
            "Epoch 117/150\n",
            "938/938 [==============================] - 4s 4ms/step - loss: 1.5495e-04 - accuracy: 0.9999\n",
            "Epoch 118/150\n",
            "938/938 [==============================] - 4s 5ms/step - loss: 3.9350e-04 - accuracy: 1.0000\n",
            "Epoch 119/150\n",
            "938/938 [==============================] - 4s 4ms/step - loss: 2.3842e-11 - accuracy: 1.0000\n",
            "Epoch 120/150\n",
            "938/938 [==============================] - 4s 4ms/step - loss: 0.0000e+00 - accuracy: 1.0000\n",
            "Epoch 121/150\n",
            "938/938 [==============================] - 4s 4ms/step - loss: 0.0000e+00 - accuracy: 1.0000\n",
            "Epoch 122/150\n",
            "938/938 [==============================] - 4s 4ms/step - loss: 0.0000e+00 - accuracy: 1.0000\n",
            "Epoch 123/150\n",
            "938/938 [==============================] - 4s 4ms/step - loss: 0.0000e+00 - accuracy: 1.0000\n",
            "Epoch 124/150\n",
            "938/938 [==============================] - 4s 4ms/step - loss: 0.0000e+00 - accuracy: 1.0000\n",
            "Epoch 125/150\n",
            "938/938 [==============================] - 4s 5ms/step - loss: 0.0000e+00 - accuracy: 1.0000\n",
            "Epoch 126/150\n",
            "938/938 [==============================] - 4s 5ms/step - loss: 0.0000e+00 - accuracy: 1.0000\n",
            "Epoch 127/150\n",
            "938/938 [==============================] - 4s 4ms/step - loss: 0.0000e+00 - accuracy: 1.0000\n",
            "Epoch 128/150\n",
            "938/938 [==============================] - 4s 4ms/step - loss: 0.0000e+00 - accuracy: 1.0000\n",
            "Epoch 129/150\n",
            "938/938 [==============================] - 4s 4ms/step - loss: 0.0000e+00 - accuracy: 1.0000\n",
            "Epoch 130/150\n",
            "938/938 [==============================] - 4s 4ms/step - loss: 0.0000e+00 - accuracy: 1.0000\n",
            "Epoch 131/150\n",
            "938/938 [==============================] - 4s 4ms/step - loss: 0.0000e+00 - accuracy: 1.0000\n",
            "Epoch 132/150\n",
            "938/938 [==============================] - 4s 4ms/step - loss: 0.0000e+00 - accuracy: 1.0000\n",
            "Epoch 133/150\n",
            "938/938 [==============================] - 4s 5ms/step - loss: 0.0000e+00 - accuracy: 1.0000\n",
            "Epoch 134/150\n",
            "938/938 [==============================] - 4s 4ms/step - loss: 0.0000e+00 - accuracy: 1.0000\n",
            "Epoch 135/150\n",
            "938/938 [==============================] - 4s 4ms/step - loss: 0.0000e+00 - accuracy: 1.0000\n",
            "Epoch 136/150\n",
            "938/938 [==============================] - 4s 4ms/step - loss: 0.0000e+00 - accuracy: 1.0000\n",
            "Epoch 137/150\n",
            "938/938 [==============================] - 4s 4ms/step - loss: 0.0000e+00 - accuracy: 1.0000\n",
            "Epoch 138/150\n",
            "938/938 [==============================] - 4s 4ms/step - loss: 0.0000e+00 - accuracy: 1.0000\n",
            "Epoch 139/150\n",
            "938/938 [==============================] - 4s 4ms/step - loss: 0.0000e+00 - accuracy: 1.0000\n",
            "Epoch 140/150\n",
            "938/938 [==============================] - 4s 4ms/step - loss: 0.0000e+00 - accuracy: 1.0000\n",
            "Epoch 141/150\n",
            "938/938 [==============================] - 4s 4ms/step - loss: 0.0000e+00 - accuracy: 1.0000\n",
            "Epoch 142/150\n",
            "938/938 [==============================] - 4s 4ms/step - loss: 0.0000e+00 - accuracy: 1.0000\n",
            "Epoch 143/150\n",
            "938/938 [==============================] - 4s 4ms/step - loss: 0.0000e+00 - accuracy: 1.0000\n",
            "Epoch 144/150\n",
            "938/938 [==============================] - 4s 5ms/step - loss: 0.0000e+00 - accuracy: 1.0000\n",
            "Epoch 145/150\n",
            "938/938 [==============================] - 4s 4ms/step - loss: 0.0000e+00 - accuracy: 1.0000\n",
            "Epoch 146/150\n",
            "938/938 [==============================] - 4s 4ms/step - loss: 0.0000e+00 - accuracy: 1.0000\n",
            "Epoch 147/150\n",
            "938/938 [==============================] - 4s 4ms/step - loss: 0.0000e+00 - accuracy: 1.0000\n",
            "Epoch 148/150\n",
            "938/938 [==============================] - 4s 4ms/step - loss: 0.0000e+00 - accuracy: 1.0000\n",
            "Epoch 149/150\n",
            "938/938 [==============================] - 4s 4ms/step - loss: 0.0000e+00 - accuracy: 1.0000\n",
            "Epoch 150/150\n",
            "938/938 [==============================] - 4s 4ms/step - loss: 0.0000e+00 - accuracy: 1.0000\n"
          ],
          "name": "stdout"
        },
        {
          "output_type": "execute_result",
          "data": {
            "text/plain": [
              "<tensorflow.python.keras.callbacks.History at 0x7f703e05ac50>"
            ]
          },
          "metadata": {
            "tags": []
          },
          "execution_count": 37
        }
      ]
    },
    {
      "cell_type": "code",
      "metadata": {
        "id": "C65NGsjVBOjo",
        "colab": {
          "base_uri": "https://localhost:8080/"
        },
        "outputId": "92f7e8ea-62e3-4ef6-8c06-d63834308d3f"
      },
      "source": [
        "test_loss, test_accuracy = model.evaluate(test_images, test_labels)"
      ],
      "execution_count": null,
      "outputs": [
        {
          "output_type": "stream",
          "text": [
            "313/313 [==============================] - 1s 2ms/step - loss: 0.2749 - accuracy: 0.9920\n"
          ],
          "name": "stdout"
        }
      ]
    },
    {
      "cell_type": "code",
      "metadata": {
        "id": "sDBw05lPBfMj",
        "colab": {
          "base_uri": "https://localhost:8080/"
        },
        "outputId": "61384a95-6bef-4b70-fd9a-f3dc5397c5b2"
      },
      "source": [
        "test_accuracy"
      ],
      "execution_count": null,
      "outputs": [
        {
          "output_type": "execute_result",
          "data": {
            "text/plain": [
              "0.9919999837875366"
            ]
          },
          "metadata": {
            "tags": []
          },
          "execution_count": 44
        }
      ]
    },
    {
      "cell_type": "code",
      "metadata": {
        "id": "K4Ty4O1WB3JQ",
        "colab": {
          "base_uri": "https://localhost:8080/"
        },
        "outputId": "1a3205fc-6220-4c80-f3e7-41012dd0c133"
      },
      "source": [
        "predictions = model.predict_classes(test_images)"
      ],
      "execution_count": null,
      "outputs": [
        {
          "output_type": "stream",
          "text": [
            "WARNING:tensorflow:From <ipython-input-45-cd3d268a0ddd>:1: Sequential.predict_classes (from tensorflow.python.keras.engine.sequential) is deprecated and will be removed after 2021-01-01.\n",
            "Instructions for updating:\n",
            "Please use instead:* `np.argmax(model.predict(x), axis=-1)`,   if your model does multi-class classification   (e.g. if it uses a `softmax` last-layer activation).* `(model.predict(x) > 0.5).astype(\"int32\")`,   if your model does binary classification   (e.g. if it uses a `sigmoid` last-layer activation).\n"
          ],
          "name": "stdout"
        }
      ]
    },
    {
      "cell_type": "code",
      "metadata": {
        "id": "mrSezl9zCALn",
        "colab": {
          "base_uri": "https://localhost:8080/",
          "height": 282
        },
        "outputId": "835ffbd7-3c9d-4a6e-9e30-e3b426e18c53"
      },
      "source": [
        "plt.imshow(image.array_to_img(test_images[999]), cmap=\"gray\")"
      ],
      "execution_count": null,
      "outputs": [
        {
          "output_type": "execute_result",
          "data": {
            "text/plain": [
              "<matplotlib.image.AxesImage at 0x7fa9561ec160>"
            ]
          },
          "metadata": {
            "tags": []
          },
          "execution_count": 52
        },
        {
          "output_type": "display_data",
          "data": {
            "image/png": "[encoded data removed]",
            "text/plain": [
              "<Figure size 432x288 with 1 Axes>"
            ]
          },
          "metadata": {
            "tags": [],
            "needs_background": "light"
          }
        }
      ]
    },
    {
      "cell_type": "code",
      "metadata": {
        "id": "nKJbHHk0CLNs",
        "colab": {
          "base_uri": "https://localhost:8080/"
        },
        "outputId": "9549fddb-48cf-4d96-aacf-4b1006815d3d"
      },
      "source": [
        "predictions[999]"
      ],
      "execution_count": null,
      "outputs": [
        {
          "output_type": "execute_result",
          "data": {
            "text/plain": [
              "9"
            ]
          },
          "metadata": {
            "tags": []
          },
          "execution_count": 53
        }
      ]
    },
    {
      "cell_type": "code",
      "metadata": {
        "id": "R7TJH7sDEfeg",
        "colab": {
          "base_uri": "https://localhost:8080/",
          "height": 319
        },
        "outputId": "9032b02f-2cee-494f-c72e-8d4836ae4dd2"
      },
      "source": [
        "img = image.load_img(path=\"/content/IMG_DA871CC1A547-1.jpeg\", grayscale=True, target_size=(28,28,1))\n",
        "img = image.img_to_array(img)\n",
        "plt.imshow(image.array_to_img(img), cmap=\"gray\")\n",
        "img = img.astype('float')/255\n",
        "test_img = img.reshape((1, 28, 28, 1))\n",
        "img_class = model.predict_classes(test_img)\n",
        "prediction = img_class[0]"
      ],
      "execution_count": null,
      "outputs": [
        {
          "output_type": "stream",
          "text": [
            "/usr/local/lib/python3.6/dist-packages/keras_preprocessing/image/utils.py:107: UserWarning: grayscale is deprecated. Please use color_mode = \"grayscale\"\n",
            "  warnings.warn('grayscale is deprecated. Please use '\n"
          ],
          "name": "stderr"
        },
        {
          "output_type": "display_data",
          "data": {
            "image/png": "[encoded data removed]",
            "text/plain": [
              "<Figure size 432x288 with 1 Axes>"
            ]
          },
          "metadata": {
            "tags": [],
            "needs_background": "light"
          }
        }
      ]
    },
    {
      "cell_type": "code",
      "metadata": {
        "id": "VJCTkChkFW76",
        "colab": {
          "base_uri": "https://localhost:8080/"
        },
        "outputId": "13b0f7ea-32cd-49db-e8e4-b21601020697"
      },
      "source": [
        "prediction"
      ],
      "execution_count": null,
      "outputs": [
        {
          "output_type": "execute_result",
          "data": {
            "text/plain": [
              "1"
            ]
          },
          "metadata": {
            "tags": []
          },
          "execution_count": 77
        }
      ]
    },
    {
      "cell_type": "code",
      "metadata": {
        "id": "5J7xmnvdIghU"
      },
      "source": [
        "model.save('/content/number-recog.h5')"
      ],
      "execution_count": null,
      "outputs": []
    }
  ]
}